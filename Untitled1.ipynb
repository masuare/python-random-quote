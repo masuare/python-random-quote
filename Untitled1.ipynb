{
  "nbformat": 4,
  "nbformat_minor": 0,
  "metadata": {
    "colab": {
      "name": "Untitled1.ipynb",
      "version": "0.3.2",
      "provenance": [],
      "include_colab_link": true
    },
    "kernelspec": {
      "name": "python3",
      "display_name": "Python 3"
    }
  },
  "cells": [
    {
      "cell_type": "markdown",
      "metadata": {
        "id": "view-in-github",
        "colab_type": "text"
      },
      "source": [
        "<a href=\"https://colab.research.google.com/github/masuare/python-random-quote/blob/master/Untitled1.ipynb\" target=\"_parent\"><img src=\"https://colab.research.google.com/assets/colab-badge.svg\" alt=\"Open In Colab\"/></a>"
      ]
    },
    {
      "cell_type": "code",
      "metadata": {
        "id": "UU7-vwXzADYG",
        "colab_type": "code",
        "colab": {
          "base_uri": "https://localhost:8080/",
          "height": 34
        },
        "outputId": "13a0bf45-0e55-493e-9e31-b7bd7b20cb09"
      },
      "source": [
        "a = 1 \n",
        "b = 2\n",
        "a + b\n"
      ],
      "execution_count": 3,
      "outputs": [
        {
          "output_type": "execute_result",
          "data": {
            "text/plain": [
              "3"
            ]
          },
          "metadata": {
            "tags": []
          },
          "execution_count": 3
        }
      ]
    },
    {
      "cell_type": "code",
      "metadata": {
        "id": "Hol7rhO9Afms",
        "colab_type": "code",
        "colab": {}
      },
      "source": [
        "# Comentario \n",
        "\n",
        "integer = 1\n",
        "float = 1.0\n",
        "complex = 1 + 1j\n",
        "string = 'string'\n",
        "string2 = \"otro string\"\n",
        "tuple = (1,1)\n",
        "list = [1, 'dos', (1,1,1,1)]\n",
        "\n"
      ],
      "execution_count": 0,
      "outputs": []
    },
    {
      "cell_type": "code",
      "metadata": {
        "id": "RxAmEa_tCGKT",
        "colab_type": "code",
        "colab": {
          "base_uri": "https://localhost:8080/",
          "height": 221
        },
        "outputId": "964ae049-b799-4b8b-ba67-f0c74aba7e5d"
      },
      "source": [
        "pepito = 'paga doble'\n",
        "%whos \n"
      ],
      "execution_count": 6,
      "outputs": [
        {
          "output_type": "stream",
          "text": [
            "Variable   Type       Data/Info\n",
            "-------------------------------\n",
            "a          int        1\n",
            "b          int        2\n",
            "complex    complex    (1+1j)\n",
            "float      float      1.0\n",
            "integer    int        1\n",
            "list       list       n=3\n",
            "pepito     str        paga doble\n",
            "string     str        string\n",
            "string2    str        otro string\n",
            "tuple      tuple      n=2\n"
          ],
          "name": "stdout"
        }
      ]
    }
  ]
}